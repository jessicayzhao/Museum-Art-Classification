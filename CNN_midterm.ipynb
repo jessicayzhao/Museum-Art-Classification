{
 "cells": [
  {
   "cell_type": "code",
   "execution_count": 1,
   "id": "946edd35",
   "metadata": {},
   "outputs": [],
   "source": [
    "import pandas as pd\n",
    "import os"
   ]
  },
  {
   "cell_type": "code",
   "execution_count": 2,
   "id": "2c3492c7",
   "metadata": {},
   "outputs": [
    {
     "data": {
      "text/html": [
       "<div>\n",
       "<style scoped>\n",
       "    .dataframe tbody tr th:only-of-type {\n",
       "        vertical-align: middle;\n",
       "    }\n",
       "\n",
       "    .dataframe tbody tr th {\n",
       "        vertical-align: top;\n",
       "    }\n",
       "\n",
       "    .dataframe thead th {\n",
       "        text-align: right;\n",
       "    }\n",
       "</style>\n",
       "<table border=\"1\" class=\"dataframe\">\n",
       "  <thead>\n",
       "    <tr style=\"text-align: right;\">\n",
       "      <th></th>\n",
       "      <th>Full_Path</th>\n",
       "      <th>Period_Label</th>\n",
       "    </tr>\n",
       "  </thead>\n",
       "  <tbody>\n",
       "    <tr>\n",
       "      <th>0</th>\n",
       "      <td>art500k_period/1.0/823.jpg</td>\n",
       "      <td>0.0</td>\n",
       "    </tr>\n",
       "    <tr>\n",
       "      <th>1</th>\n",
       "      <td>art500k_period/1.0/16750.jpg</td>\n",
       "      <td>0.0</td>\n",
       "    </tr>\n",
       "    <tr>\n",
       "      <th>2</th>\n",
       "      <td>art500k_period/1.0/16988.jpg</td>\n",
       "      <td>0.0</td>\n",
       "    </tr>\n",
       "    <tr>\n",
       "      <th>3</th>\n",
       "      <td>art500k_period/1.0/The Ascension##dQE3OyMRBV0s...</td>\n",
       "      <td>0.0</td>\n",
       "    </tr>\n",
       "    <tr>\n",
       "      <th>4</th>\n",
       "      <td>art500k_period/1.0/32180.jpg</td>\n",
       "      <td>0.0</td>\n",
       "    </tr>\n",
       "  </tbody>\n",
       "</table>\n",
       "</div>"
      ],
      "text/plain": [
       "                                           Full_Path  Period_Label\n",
       "0                         art500k_period/1.0/823.jpg           0.0\n",
       "1                       art500k_period/1.0/16750.jpg           0.0\n",
       "2                       art500k_period/1.0/16988.jpg           0.0\n",
       "3  art500k_period/1.0/The Ascension##dQE3OyMRBV0s...           0.0\n",
       "4                       art500k_period/1.0/32180.jpg           0.0"
      ]
     },
     "execution_count": 2,
     "metadata": {},
     "output_type": "execute_result"
    }
   ],
   "source": [
    "root_folder = \"art500k_period\"\n",
    "\n",
    "data = []\n",
    "\n",
    "for folder in os.listdir(root_folder):\n",
    "    folder_path = os.path.join(root_folder, folder)\n",
    "    if os.path.isdir(folder_path):\n",
    "        for file in os.listdir(folder_path):\n",
    "            if file.endswith(\".jpg\"):\n",
    "                file_path = os.path.join(folder_path, file)\n",
    "                data.append((file_path, float(folder)))\n",
    "\n",
    "df = pd.DataFrame(data, columns=[\"Full_Path\", \"Period_Label\"])\n",
    "\n",
    "# drop periods 0 and 6\n",
    "df = df[(df[\"Period_Label\"] != 0.0) & (df[\"Period_Label\"] != 6.0)]\n",
    "df[\"Period_Label\"] -= 1.0\n",
    "\n",
    "df.head()"
   ]
  },
  {
   "cell_type": "code",
   "execution_count": 3,
   "id": "446906b8",
   "metadata": {},
   "outputs": [],
   "source": [
    "period_labels = df[\"Period_Label\"].unique()"
   ]
  },
  {
   "cell_type": "code",
   "execution_count": 4,
   "id": "2a85d5de",
   "metadata": {},
   "outputs": [
    {
     "data": {
      "text/plain": [
       "Period_Label\n",
       "0.0     3066\n",
       "1.0    16077\n",
       "2.0     9939\n",
       "3.0     6247\n",
       "4.0     6802\n",
       "Name: count, dtype: int64"
      ]
     },
     "execution_count": 4,
     "metadata": {},
     "output_type": "execute_result"
    }
   ],
   "source": [
    "label_counts = df[\"Period_Label\"].value_counts().sort_index()\n",
    "label_counts"
   ]
  },
  {
   "cell_type": "code",
   "execution_count": 5,
   "id": "aaf590c9-96d7-4279-83c7-d74d216f2716",
   "metadata": {},
   "outputs": [
    {
     "name": "stdout",
     "output_type": "stream",
     "text": [
      "                                               Full_Path  Period_Label\n",
      "0                             art500k_period/1.0/823.jpg             0\n",
      "1                           art500k_period/1.0/16750.jpg             0\n",
      "2                           art500k_period/1.0/16988.jpg             0\n",
      "3      art500k_period/1.0/The Ascension##dQE3OyMRBV0s...             0\n",
      "4                           art500k_period/1.0/32180.jpg             0\n",
      "...                                                  ...           ...\n",
      "42126  art500k_period/4.0/Ten Panel Folding Screen Of...             3\n",
      "42127  art500k_period/4.0/Perseus Confronting Phineus...             3\n",
      "42128                        art500k_period/4.0/8434.jpg             3\n",
      "42129                       art500k_period/4.0/35190.jpg             3\n",
      "42130                       art500k_period/4.0/42318.jpg             3\n",
      "\n",
      "[42131 rows x 2 columns]\n"
     ]
    }
   ],
   "source": [
    "import torch\n",
    "from sklearn.model_selection import train_test_split\n",
    "\n",
    "# drop nans\n",
    "df = df.dropna(subset=[\"Period_Label\"]).reset_index(drop=True)\n",
    "\n",
    "# convert period label to int\n",
    "df[\"Period_Label\"] = df[\"Period_Label\"].astype(int)\n",
    "\n",
    "# 80/20 treain test split\n",
    "train_df, test_df = train_test_split(df, test_size=0.2, stratify=df[\"Period_Label\"], random_state=42)\n",
    "\n",
    "# Convert to tensors\n",
    "train_labels = torch.tensor(train_df[\"Period_Label\"].values, dtype=torch.long)\n",
    "test_labels = torch.tensor(test_df[\"Period_Label\"].values, dtype=torch.long)\n",
    "\n",
    "print(df)\n"
   ]
  },
  {
   "cell_type": "code",
   "execution_count": 6,
   "id": "f2e1248d-0242-48f3-b225-16de11acc2e7",
   "metadata": {},
   "outputs": [
    {
     "name": "stderr",
     "output_type": "stream",
     "text": [
      "/Library/Frameworks/Python.framework/Versions/3.11/lib/python3.11/site-packages/keras/src/layers/convolutional/base_conv.py:107: UserWarning: Do not pass an `input_shape`/`input_dim` argument to a layer. When using Sequential models, prefer using an `Input(shape)` object as the first layer in the model instead.\n",
      "  super().__init__(activity_regularizer=activity_regularizer, **kwargs)\n"
     ]
    },
    {
     "data": {
      "text/html": [
       "<pre style=\"white-space:pre;overflow-x:auto;line-height:normal;font-family:Menlo,'DejaVu Sans Mono',consolas,'Courier New',monospace\"><span style=\"font-weight: bold\">Model: \"sequential\"</span>\n",
       "</pre>\n"
      ],
      "text/plain": [
       "\u001b[1mModel: \"sequential\"\u001b[0m\n"
      ]
     },
     "metadata": {},
     "output_type": "display_data"
    },
    {
     "data": {
      "text/html": [
       "<pre style=\"white-space:pre;overflow-x:auto;line-height:normal;font-family:Menlo,'DejaVu Sans Mono',consolas,'Courier New',monospace\">┏━━━━━━━━━━━━━━━━━━━━━━━━━━━━━━━━━┳━━━━━━━━━━━━━━━━━━━━━━━━┳━━━━━━━━━━━━━━━┓\n",
       "┃<span style=\"font-weight: bold\"> Layer (type)                    </span>┃<span style=\"font-weight: bold\"> Output Shape           </span>┃<span style=\"font-weight: bold\">       Param # </span>┃\n",
       "┡━━━━━━━━━━━━━━━━━━━━━━━━━━━━━━━━━╇━━━━━━━━━━━━━━━━━━━━━━━━╇━━━━━━━━━━━━━━━┩\n",
       "│ conv2d (<span style=\"color: #0087ff; text-decoration-color: #0087ff\">Conv2D</span>)                 │ (<span style=\"color: #00d7ff; text-decoration-color: #00d7ff\">None</span>, <span style=\"color: #00af00; text-decoration-color: #00af00\">224</span>, <span style=\"color: #00af00; text-decoration-color: #00af00\">224</span>, <span style=\"color: #00af00; text-decoration-color: #00af00\">32</span>)   │           <span style=\"color: #00af00; text-decoration-color: #00af00\">896</span> │\n",
       "├─────────────────────────────────┼────────────────────────┼───────────────┤\n",
       "│ max_pooling2d (<span style=\"color: #0087ff; text-decoration-color: #0087ff\">MaxPooling2D</span>)    │ (<span style=\"color: #00d7ff; text-decoration-color: #00d7ff\">None</span>, <span style=\"color: #00af00; text-decoration-color: #00af00\">112</span>, <span style=\"color: #00af00; text-decoration-color: #00af00\">112</span>, <span style=\"color: #00af00; text-decoration-color: #00af00\">32</span>)   │             <span style=\"color: #00af00; text-decoration-color: #00af00\">0</span> │\n",
       "├─────────────────────────────────┼────────────────────────┼───────────────┤\n",
       "│ conv2d_1 (<span style=\"color: #0087ff; text-decoration-color: #0087ff\">Conv2D</span>)               │ (<span style=\"color: #00d7ff; text-decoration-color: #00d7ff\">None</span>, <span style=\"color: #00af00; text-decoration-color: #00af00\">110</span>, <span style=\"color: #00af00; text-decoration-color: #00af00\">110</span>, <span style=\"color: #00af00; text-decoration-color: #00af00\">64</span>)   │        <span style=\"color: #00af00; text-decoration-color: #00af00\">18,496</span> │\n",
       "├─────────────────────────────────┼────────────────────────┼───────────────┤\n",
       "│ max_pooling2d_1 (<span style=\"color: #0087ff; text-decoration-color: #0087ff\">MaxPooling2D</span>)  │ (<span style=\"color: #00d7ff; text-decoration-color: #00d7ff\">None</span>, <span style=\"color: #00af00; text-decoration-color: #00af00\">55</span>, <span style=\"color: #00af00; text-decoration-color: #00af00\">55</span>, <span style=\"color: #00af00; text-decoration-color: #00af00\">64</span>)     │             <span style=\"color: #00af00; text-decoration-color: #00af00\">0</span> │\n",
       "├─────────────────────────────────┼────────────────────────┼───────────────┤\n",
       "│ flatten (<span style=\"color: #0087ff; text-decoration-color: #0087ff\">Flatten</span>)               │ (<span style=\"color: #00d7ff; text-decoration-color: #00d7ff\">None</span>, <span style=\"color: #00af00; text-decoration-color: #00af00\">193600</span>)         │             <span style=\"color: #00af00; text-decoration-color: #00af00\">0</span> │\n",
       "├─────────────────────────────────┼────────────────────────┼───────────────┤\n",
       "│ dense (<span style=\"color: #0087ff; text-decoration-color: #0087ff\">Dense</span>)                   │ (<span style=\"color: #00d7ff; text-decoration-color: #00d7ff\">None</span>, <span style=\"color: #00af00; text-decoration-color: #00af00\">128</span>)            │    <span style=\"color: #00af00; text-decoration-color: #00af00\">24,780,928</span> │\n",
       "├─────────────────────────────────┼────────────────────────┼───────────────┤\n",
       "│ dropout (<span style=\"color: #0087ff; text-decoration-color: #0087ff\">Dropout</span>)               │ (<span style=\"color: #00d7ff; text-decoration-color: #00d7ff\">None</span>, <span style=\"color: #00af00; text-decoration-color: #00af00\">128</span>)            │             <span style=\"color: #00af00; text-decoration-color: #00af00\">0</span> │\n",
       "├─────────────────────────────────┼────────────────────────┼───────────────┤\n",
       "│ dense_1 (<span style=\"color: #0087ff; text-decoration-color: #0087ff\">Dense</span>)                 │ (<span style=\"color: #00d7ff; text-decoration-color: #00d7ff\">None</span>, <span style=\"color: #00af00; text-decoration-color: #00af00\">64</span>)             │         <span style=\"color: #00af00; text-decoration-color: #00af00\">8,256</span> │\n",
       "├─────────────────────────────────┼────────────────────────┼───────────────┤\n",
       "│ dropout_1 (<span style=\"color: #0087ff; text-decoration-color: #0087ff\">Dropout</span>)             │ (<span style=\"color: #00d7ff; text-decoration-color: #00d7ff\">None</span>, <span style=\"color: #00af00; text-decoration-color: #00af00\">64</span>)             │             <span style=\"color: #00af00; text-decoration-color: #00af00\">0</span> │\n",
       "├─────────────────────────────────┼────────────────────────┼───────────────┤\n",
       "│ dense_2 (<span style=\"color: #0087ff; text-decoration-color: #0087ff\">Dense</span>)                 │ (<span style=\"color: #00d7ff; text-decoration-color: #00d7ff\">None</span>, <span style=\"color: #00af00; text-decoration-color: #00af00\">5</span>)              │           <span style=\"color: #00af00; text-decoration-color: #00af00\">325</span> │\n",
       "└─────────────────────────────────┴────────────────────────┴───────────────┘\n",
       "</pre>\n"
      ],
      "text/plain": [
       "┏━━━━━━━━━━━━━━━━━━━━━━━━━━━━━━━━━┳━━━━━━━━━━━━━━━━━━━━━━━━┳━━━━━━━━━━━━━━━┓\n",
       "┃\u001b[1m \u001b[0m\u001b[1mLayer (type)                   \u001b[0m\u001b[1m \u001b[0m┃\u001b[1m \u001b[0m\u001b[1mOutput Shape          \u001b[0m\u001b[1m \u001b[0m┃\u001b[1m \u001b[0m\u001b[1m      Param #\u001b[0m\u001b[1m \u001b[0m┃\n",
       "┡━━━━━━━━━━━━━━━━━━━━━━━━━━━━━━━━━╇━━━━━━━━━━━━━━━━━━━━━━━━╇━━━━━━━━━━━━━━━┩\n",
       "│ conv2d (\u001b[38;5;33mConv2D\u001b[0m)                 │ (\u001b[38;5;45mNone\u001b[0m, \u001b[38;5;34m224\u001b[0m, \u001b[38;5;34m224\u001b[0m, \u001b[38;5;34m32\u001b[0m)   │           \u001b[38;5;34m896\u001b[0m │\n",
       "├─────────────────────────────────┼────────────────────────┼───────────────┤\n",
       "│ max_pooling2d (\u001b[38;5;33mMaxPooling2D\u001b[0m)    │ (\u001b[38;5;45mNone\u001b[0m, \u001b[38;5;34m112\u001b[0m, \u001b[38;5;34m112\u001b[0m, \u001b[38;5;34m32\u001b[0m)   │             \u001b[38;5;34m0\u001b[0m │\n",
       "├─────────────────────────────────┼────────────────────────┼───────────────┤\n",
       "│ conv2d_1 (\u001b[38;5;33mConv2D\u001b[0m)               │ (\u001b[38;5;45mNone\u001b[0m, \u001b[38;5;34m110\u001b[0m, \u001b[38;5;34m110\u001b[0m, \u001b[38;5;34m64\u001b[0m)   │        \u001b[38;5;34m18,496\u001b[0m │\n",
       "├─────────────────────────────────┼────────────────────────┼───────────────┤\n",
       "│ max_pooling2d_1 (\u001b[38;5;33mMaxPooling2D\u001b[0m)  │ (\u001b[38;5;45mNone\u001b[0m, \u001b[38;5;34m55\u001b[0m, \u001b[38;5;34m55\u001b[0m, \u001b[38;5;34m64\u001b[0m)     │             \u001b[38;5;34m0\u001b[0m │\n",
       "├─────────────────────────────────┼────────────────────────┼───────────────┤\n",
       "│ flatten (\u001b[38;5;33mFlatten\u001b[0m)               │ (\u001b[38;5;45mNone\u001b[0m, \u001b[38;5;34m193600\u001b[0m)         │             \u001b[38;5;34m0\u001b[0m │\n",
       "├─────────────────────────────────┼────────────────────────┼───────────────┤\n",
       "│ dense (\u001b[38;5;33mDense\u001b[0m)                   │ (\u001b[38;5;45mNone\u001b[0m, \u001b[38;5;34m128\u001b[0m)            │    \u001b[38;5;34m24,780,928\u001b[0m │\n",
       "├─────────────────────────────────┼────────────────────────┼───────────────┤\n",
       "│ dropout (\u001b[38;5;33mDropout\u001b[0m)               │ (\u001b[38;5;45mNone\u001b[0m, \u001b[38;5;34m128\u001b[0m)            │             \u001b[38;5;34m0\u001b[0m │\n",
       "├─────────────────────────────────┼────────────────────────┼───────────────┤\n",
       "│ dense_1 (\u001b[38;5;33mDense\u001b[0m)                 │ (\u001b[38;5;45mNone\u001b[0m, \u001b[38;5;34m64\u001b[0m)             │         \u001b[38;5;34m8,256\u001b[0m │\n",
       "├─────────────────────────────────┼────────────────────────┼───────────────┤\n",
       "│ dropout_1 (\u001b[38;5;33mDropout\u001b[0m)             │ (\u001b[38;5;45mNone\u001b[0m, \u001b[38;5;34m64\u001b[0m)             │             \u001b[38;5;34m0\u001b[0m │\n",
       "├─────────────────────────────────┼────────────────────────┼───────────────┤\n",
       "│ dense_2 (\u001b[38;5;33mDense\u001b[0m)                 │ (\u001b[38;5;45mNone\u001b[0m, \u001b[38;5;34m5\u001b[0m)              │           \u001b[38;5;34m325\u001b[0m │\n",
       "└─────────────────────────────────┴────────────────────────┴───────────────┘\n"
      ]
     },
     "metadata": {},
     "output_type": "display_data"
    },
    {
     "data": {
      "text/html": [
       "<pre style=\"white-space:pre;overflow-x:auto;line-height:normal;font-family:Menlo,'DejaVu Sans Mono',consolas,'Courier New',monospace\"><span style=\"font-weight: bold\"> Total params: </span><span style=\"color: #00af00; text-decoration-color: #00af00\">24,808,901</span> (94.64 MB)\n",
       "</pre>\n"
      ],
      "text/plain": [
       "\u001b[1m Total params: \u001b[0m\u001b[38;5;34m24,808,901\u001b[0m (94.64 MB)\n"
      ]
     },
     "metadata": {},
     "output_type": "display_data"
    },
    {
     "data": {
      "text/html": [
       "<pre style=\"white-space:pre;overflow-x:auto;line-height:normal;font-family:Menlo,'DejaVu Sans Mono',consolas,'Courier New',monospace\"><span style=\"font-weight: bold\"> Trainable params: </span><span style=\"color: #00af00; text-decoration-color: #00af00\">24,808,901</span> (94.64 MB)\n",
       "</pre>\n"
      ],
      "text/plain": [
       "\u001b[1m Trainable params: \u001b[0m\u001b[38;5;34m24,808,901\u001b[0m (94.64 MB)\n"
      ]
     },
     "metadata": {},
     "output_type": "display_data"
    },
    {
     "data": {
      "text/html": [
       "<pre style=\"white-space:pre;overflow-x:auto;line-height:normal;font-family:Menlo,'DejaVu Sans Mono',consolas,'Courier New',monospace\"><span style=\"font-weight: bold\"> Non-trainable params: </span><span style=\"color: #00af00; text-decoration-color: #00af00\">0</span> (0.00 B)\n",
       "</pre>\n"
      ],
      "text/plain": [
       "\u001b[1m Non-trainable params: \u001b[0m\u001b[38;5;34m0\u001b[0m (0.00 B)\n"
      ]
     },
     "metadata": {},
     "output_type": "display_data"
    }
   ],
   "source": [
    "from tensorflow.keras.preprocessing.image import ImageDataGenerator\n",
    "from tensorflow.keras.preprocessing import image\n",
    "import numpy as np\n",
    "from tensorflow.keras.models import Sequential\n",
    "from tensorflow.keras.layers import Conv2D, MaxPooling2D, Flatten, Dense, Dropout\n",
    "\n",
    "def preprocess_image(self, image_path, target_size=(224, 224)):\n",
    "    # Preprocess the image (resize and normalize)\n",
    "    from tensorflow.keras.preprocessing import image\n",
    "    img = image.load_img(image_path, target_size=target_size)\n",
    "    img_array = image.img_to_array(img)\n",
    "    img_array = np.expand_dims(img_array, axis=0)  # Add batch dimension (only one batch)\n",
    "    img_array = img_array / 255.0  # Normalize image\n",
    "    return img_array\n",
    "    \n",
    "# mult-class classification\n",
    "model = Sequential([\n",
    "    # first layer w padding\n",
    "    Conv2D(32, (3, 3), padding='same', activation='relu', input_shape=(224, 224, 3)),  #resize images\n",
    "    MaxPooling2D((2, 2)),  # max pooling\n",
    "\n",
    "    # Second convolutional layer\n",
    "    Conv2D(64, (3, 3), activation='relu'),\n",
    "    MaxPooling2D((2, 2)),  # max pooling\n",
    "\n",
    "    Flatten(),\n",
    "\n",
    "    # fully connected layer\n",
    "    Dense(128, activation='relu'),\n",
    "    Dropout(0.7),  \n",
    "    Dense(64, activation='relu'), \n",
    "    Dropout(0.7),  \n",
    "\n",
    "    # output layer\n",
    "    Dense(len(period_labels), activation='softmax')  # Output layer (one neuron per class)\n",
    "])\n",
    "'''\n",
    "# Simplified CNN model for multi-class classification\n",
    "model = Sequential([\n",
    "    # First convolutional layer with padding\n",
    "    Conv2D(32, (3, 3), padding='same', activation='relu', input_shape=(224, 224, 3)),  # Resize images to 224x224x3\n",
    "    MaxPooling2D((2, 2)),  # Max pooling\n",
    "\n",
    "    # Flatten\n",
    "    Flatten(),\n",
    "\n",
    "    # Output layer for multi-class classification\n",
    "    Dense(len(period_labels), activation='softmax')  # Output layer (one neuron per class)\n",
    "])\n",
    "'''\n",
    "# compile model\n",
    "#using learning rate of 0.0001 adam\n",
    "model.compile(optimizer='adam', loss='sparse_categorical_crossentropy', metrics=['accuracy'])\n",
    "\n",
    "# model summary\n",
    "model.summary()\n",
    "\n"
   ]
  },
  {
   "cell_type": "code",
   "execution_count": 7,
   "id": "cae92a1d-d11d-4cc7-9498-0e2ce9fa9d58",
   "metadata": {
    "scrolled": true
   },
   "outputs": [
    {
     "name": "stdout",
     "output_type": "stream",
     "text": [
      "Found 33704 validated image filenames.\n",
      "Found 8427 validated image filenames.\n",
      "Epoch 1/10\n"
     ]
    },
    {
     "name": "stderr",
     "output_type": "stream",
     "text": [
      "/Library/Frameworks/Python.framework/Versions/3.11/lib/python3.11/site-packages/keras/src/trainers/data_adapters/py_dataset_adapter.py:121: UserWarning: Your `PyDataset` class should call `super().__init__(**kwargs)` in its constructor. `**kwargs` can include `workers`, `use_multiprocessing`, `max_queue_size`. Do not pass these arguments to `fit()`, as they will be ignored.\n",
      "  self._warn_if_super_not_called()\n"
     ]
    },
    {
     "name": "stdout",
     "output_type": "stream",
     "text": [
      "\u001b[1m1054/1054\u001b[0m \u001b[32m━━━━━━━━━━━━━━━━━━━━\u001b[0m\u001b[37m\u001b[0m \u001b[1m590s\u001b[0m 558ms/step - accuracy: 0.3649 - loss: 1.6633 - val_accuracy: 0.3751 - val_loss: 1.4760\n",
      "Epoch 2/10\n",
      "\u001b[1m1054/1054\u001b[0m \u001b[32m━━━━━━━━━━━━━━━━━━━━\u001b[0m\u001b[37m\u001b[0m \u001b[1m1126s\u001b[0m 1s/step - accuracy: 0.3832 - loss: 1.4600 - val_accuracy: 0.3751 - val_loss: 1.4460\n",
      "Epoch 3/10\n",
      "\u001b[1m1054/1054\u001b[0m \u001b[32m━━━━━━━━━━━━━━━━━━━━\u001b[0m\u001b[37m\u001b[0m \u001b[1m1478s\u001b[0m 1s/step - accuracy: 0.3921 - loss: 1.4235 - val_accuracy: 0.4036 - val_loss: 1.4177\n",
      "Epoch 4/10\n",
      "\u001b[1m1054/1054\u001b[0m \u001b[32m━━━━━━━━━━━━━━━━━━━━\u001b[0m\u001b[37m\u001b[0m \u001b[1m1407s\u001b[0m 1s/step - accuracy: 0.4243 - loss: 1.3751 - val_accuracy: 0.4304 - val_loss: 1.3532\n",
      "Epoch 5/10\n",
      "\u001b[1m1054/1054\u001b[0m \u001b[32m━━━━━━━━━━━━━━━━━━━━\u001b[0m\u001b[37m\u001b[0m \u001b[1m5123s\u001b[0m 5s/step - accuracy: 0.4608 - loss: 1.2961 - val_accuracy: 0.4375 - val_loss: 1.3336\n",
      "Epoch 6/10\n",
      "\u001b[1m1054/1054\u001b[0m \u001b[32m━━━━━━━━━━━━━━━━━━━━\u001b[0m\u001b[37m\u001b[0m \u001b[1m1332s\u001b[0m 1s/step - accuracy: 0.5100 - loss: 1.1964 - val_accuracy: 0.4399 - val_loss: 1.3773\n",
      "Epoch 7/10\n",
      "\u001b[1m1054/1054\u001b[0m \u001b[32m━━━━━━━━━━━━━━━━━━━━\u001b[0m\u001b[37m\u001b[0m \u001b[1m1334s\u001b[0m 1s/step - accuracy: 0.5429 - loss: 1.1271 - val_accuracy: 0.4497 - val_loss: 1.4059\n",
      "Epoch 8/10\n",
      "\u001b[1m1054/1054\u001b[0m \u001b[32m━━━━━━━━━━━━━━━━━━━━\u001b[0m\u001b[37m\u001b[0m \u001b[1m1337s\u001b[0m 1s/step - accuracy: 0.5833 - loss: 1.0391 - val_accuracy: 0.4432 - val_loss: 1.4353\n",
      "Epoch 9/10\n",
      "\u001b[1m1054/1054\u001b[0m \u001b[32m━━━━━━━━━━━━━━━━━━━━\u001b[0m\u001b[37m\u001b[0m \u001b[1m1323s\u001b[0m 1s/step - accuracy: 0.6158 - loss: 0.9552 - val_accuracy: 0.4363 - val_loss: 1.4552\n",
      "Epoch 10/10\n",
      "\u001b[1m1054/1054\u001b[0m \u001b[32m━━━━━━━━━━━━━━━━━━━━\u001b[0m\u001b[37m\u001b[0m \u001b[1m1334s\u001b[0m 1s/step - accuracy: 0.6449 - loss: 0.8953 - val_accuracy: 0.4382 - val_loss: 1.6044\n"
     ]
    },
    {
     "data": {
      "text/plain": [
       "<keras.src.callbacks.history.History at 0x144b9ed90>"
      ]
     },
     "execution_count": 7,
     "metadata": {},
     "output_type": "execute_result"
    }
   ],
   "source": [
    "#attempt 2 w generators\n",
    "\n",
    "from sklearn.model_selection import train_test_split\n",
    "from tensorflow.keras.preprocessing.image import ImageDataGenerator\n",
    "\n",
    "# Parameters\n",
    "image_size = (224, 224)  # Target size for images\n",
    "image_folder = \"/art500k\"  # Folder containing images\n",
    "batch_size = 32  # Batch size for training\n",
    "\n",
    "# # Create a DataFrame with image paths and labels\n",
    "# df['Full_Path'] = image_folder + \"/\" + df['path']\n",
    "\n",
    "# # Function to check and remove corrupt images\n",
    "# def filter_valid_images(df):\n",
    "#     valid_files = []\n",
    "#     for path in df[\"Full_Path\"]:\n",
    "#         try:\n",
    "#             img = load_img(path)  # Try loading the image\n",
    "#             img.verify()  # Verify it's not corrupt\n",
    "#             valid_files.append(path)\n",
    "#         except (UnidentifiedImageError, OSError, FileNotFoundError):\n",
    "#             #print(f\"Skipping corrupt/missing file: {path}\")  # Log skipped files\n",
    "#             continue  # Skip the corrupt file\n",
    "#     return df[df[\"Full_Path\"].isin(valid_files)]  # Keep only valid images\n",
    "\n",
    "# # Remove corrupt images before splitting data\n",
    "# df = filter_valid_images(df)\n",
    "\n",
    "# Split the data into train and test sets\n",
    "train_df, test_df = train_test_split(df, test_size=0.2, random_state=42)\n",
    "\n",
    "# Data generators\n",
    "train_datagen = ImageDataGenerator(rescale=1.0/255.0)\n",
    "test_datagen = ImageDataGenerator(rescale=1.0/255.0)\n",
    "\n",
    "train_generator = train_datagen.flow_from_dataframe(\n",
    "    dataframe=train_df,\n",
    "    x_col='Full_Path',\n",
    "    y_col='Period_Label',\n",
    "    target_size=image_size,\n",
    "    batch_size=batch_size,\n",
    "    class_mode='raw'  # Use 'raw' for regression or integer labels\n",
    ")\n",
    "\n",
    "test_generator = test_datagen.flow_from_dataframe(\n",
    "    dataframe=test_df,\n",
    "    x_col='Full_Path',\n",
    "    y_col='Period_Label',\n",
    "    target_size=image_size,\n",
    "    batch_size=batch_size,\n",
    "    class_mode='raw'\n",
    ")\n",
    "\n",
    "# Train the model\n",
    "model.fit(train_generator, epochs=10, validation_data=test_generator)\n"
   ]
  },
  {
   "cell_type": "code",
   "execution_count": 8,
   "id": "7cf37500-c6c2-4416-b8a7-27782601ca89",
   "metadata": {},
   "outputs": [
    {
     "name": "stdout",
     "output_type": "stream",
     "text": [
      "\u001b[1m264/264\u001b[0m \u001b[32m━━━━━━━━━━━━━━━━━━━━\u001b[0m\u001b[37m\u001b[0m \u001b[1m113s\u001b[0m 427ms/step\n",
      "                                             Image_Path  Actual  Predicted  \\\n",
      "0                          art500k_period/5.0/25406.jpg       4          2   \n",
      "1                          art500k_period/2.0/36237.jpg       1          3   \n",
      "2                          art500k_period/2.0/33124.jpg       1          3   \n",
      "3          art500k_period/4.0/Diana##EQHFgkIepFNu3Q.jpg       3          1   \n",
      "4                          art500k_period/3.0/36566.jpg       2          1   \n",
      "...                                                 ...     ...        ...   \n",
      "8422  art500k_period/2.0/Study Of A Pleated Skirt##k...       1          2   \n",
      "8423                       art500k_period/3.0/24487.jpg       2          1   \n",
      "8424                        art500k_period/3.0/5347.jpg       2          3   \n",
      "8425                       art500k_period/5.0/41600.jpg       4          1   \n",
      "8426                       art500k_period/4.0/35223.jpg       3          2   \n",
      "\n",
      "      Correct  \n",
      "0       False  \n",
      "1       False  \n",
      "2       False  \n",
      "3       False  \n",
      "4       False  \n",
      "...       ...  \n",
      "8422    False  \n",
      "8423    False  \n",
      "8424    False  \n",
      "8425    False  \n",
      "8426    False  \n",
      "\n",
      "[8427 rows x 4 columns]\n",
      "\n",
      "Accuracy: 0.30722677109291563\n",
      "\n",
      "Confusion Matrix:\n",
      " [[   1  390  151   46   60]\n",
      " [  12 1825  818  281  225]\n",
      " [   4 1101  525  172  154]\n",
      " [   4  723  322  118   92]\n",
      " [   1  822  337  123  120]]\n",
      "\n",
      "Classification Report:\n",
      "               precision    recall  f1-score   support\n",
      "\n",
      "           0       0.05      0.00      0.00       648\n",
      "           1       0.38      0.58      0.45      3161\n",
      "           2       0.24      0.27      0.26      1956\n",
      "           3       0.16      0.09      0.12      1259\n",
      "           4       0.18      0.09      0.12      1403\n",
      "\n",
      "    accuracy                           0.31      8427\n",
      "   macro avg       0.20      0.21      0.19      8427\n",
      "weighted avg       0.26      0.31      0.27      8427\n",
      "\n"
     ]
    }
   ],
   "source": [
    "#showing predictions\n",
    "\n",
    "import numpy as np\n",
    "import pandas as pd\n",
    "\n",
    "# Step 1: Get predictions for the test set\n",
    "y_pred_prob = model.predict(test_generator)  # Get predicted probabilities\n",
    "y_pred = np.argmax(y_pred_prob, axis=1)  # Convert probabilities to class labels\n",
    "\n",
    "# Step 2: Get the actual labels from the test generator\n",
    "# Reset the generator to ensure we get all the data in order\n",
    "test_generator.reset()\n",
    "y_true = test_generator.labels  # Actual labels\n",
    "\n",
    "# Step 3: Get the image paths from the test generator\n",
    "image_paths = test_generator.filenames\n",
    "\n",
    "# Step 4: Create a DataFrame with the results\n",
    "results_df = pd.DataFrame({\n",
    "    'Image_Path': image_paths,\n",
    "    'Actual': y_true,\n",
    "    'Predicted': y_pred\n",
    "})\n",
    "\n",
    "# Step 5: Add a column to check if the prediction was correct\n",
    "results_df['Correct'] = results_df['Actual'] == results_df['Predicted']\n",
    "\n",
    "# Print the DataFrame\n",
    "print(results_df)\n",
    "\n",
    "# Step 6: Evaluate the model's performance\n",
    "from sklearn.metrics import accuracy_score, confusion_matrix, classification_report\n",
    "\n",
    "print(\"\\nAccuracy:\", accuracy_score(y_true, y_pred))\n",
    "print(\"\\nConfusion Matrix:\\n\", confusion_matrix(y_true, y_pred))\n",
    "print(\"\\nClassification Report:\\n\", classification_report(y_true, y_pred))"
   ]
  },
  {
   "cell_type": "code",
   "execution_count": 9,
   "id": "5bda3875-2e9f-4cc6-a998-20a9ebe4670e",
   "metadata": {},
   "outputs": [
    {
     "name": "stdout",
     "output_type": "stream",
     "text": [
      "Actual Distribution:\n",
      " Actual\n",
      "0     648\n",
      "1    3161\n",
      "2    1956\n",
      "3    1259\n",
      "4    1403\n",
      "Name: count, dtype: int64\n",
      "\n",
      "Predicted Distribution:\n",
      " Predicted\n",
      "0      22\n",
      "1    4861\n",
      "2    2153\n",
      "3     740\n",
      "4     651\n",
      "Name: count, dtype: int64\n"
     ]
    },
    {
     "data": {
      "image/png": "[encoded data removed]",
      "text/plain": [
       "<Figure size 1200x600 with 2 Axes>"
      ]
     },
     "metadata": {},
     "output_type": "display_data"
    }
   ],
   "source": [
    "import pandas as pd\n",
    "import matplotlib.pyplot as plt\n",
    "\n",
    "# Assuming you already have the results_df DataFrame\n",
    "# results_df contains columns: 'Image_Path', 'Actual', 'Predicted', 'Correct'\n",
    "\n",
    "# Step 1: Get the distribution of actual labels\n",
    "actual_distribution = results_df['Actual'].value_counts().sort_index()\n",
    "print(\"Actual Distribution:\\n\", actual_distribution)\n",
    "\n",
    "# Step 2: Get the distribution of predicted labels\n",
    "predicted_distribution = results_df['Predicted'].value_counts().sort_index()\n",
    "print(\"\\nPredicted Distribution:\\n\", predicted_distribution)\n",
    "\n",
    "# Step 3: Plot the distributions\n",
    "plt.figure(figsize=(12, 6))\n",
    "\n",
    "# Plot actual distribution\n",
    "plt.subplot(1, 2, 1)\n",
    "actual_distribution.plot(kind='bar', color='blue', alpha=0.7)\n",
    "plt.title('Actual Distribution')\n",
    "plt.xlabel('Class')\n",
    "plt.ylabel('Count')\n",
    "\n",
    "# Plot predicted distribution\n",
    "plt.subplot(1, 2, 2)\n",
    "predicted_distribution.plot(kind='bar', color='orange', alpha=0.7)\n",
    "plt.title('Predicted Distribution')\n",
    "plt.xlabel('Class')\n",
    "plt.ylabel('Count')\n",
    "\n",
    "plt.tight_layout()\n",
    "plt.show()"
   ]
  }
 ],
 "metadata": {
  "kernelspec": {
   "display_name": "Python 3",
   "language": "python",
   "name": "python3"
  },
  "language_info": {
   "codemirror_mode": {
    "name": "ipython",
    "version": 3
   },
   "file_extension": ".py",
   "mimetype": "text/x-python",
   "name": "python",
   "nbconvert_exporter": "python",
   "pygments_lexer": "ipython3",
   "version": "3.11.4"
  }
 },
 "nbformat": 4,
 "nbformat_minor": 5
}
